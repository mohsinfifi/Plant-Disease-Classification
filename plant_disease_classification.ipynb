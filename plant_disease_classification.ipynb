{
 "cells": [
  {
   "cell_type": "markdown",
   "metadata": {},
   "source": [
    "### Step 1: Data Collection and Preprocessing"
   ]
  },
  {
   "cell_type": "code",
   "execution_count": null,
   "metadata": {},
   "outputs": [],
   "source": [
    "# import libraries\n",
    "\n",
    "import os\n",
    "from tensorflow.keras.preprocessing.image import ImageDataGenerator\n",
    "\n",
    "from tensorflow.keras.models import Model\n",
    "from tensorflow.keras.layers import Input, Conv2D, MaxPooling2D, Flatten, Dense, Concatenate\n",
    "\n",
    "from tensorflow.keras.callbacks import ModelCheckpoint"
   ]
  },
  {
   "cell_type": "code",
   "execution_count": null,
   "metadata": {},
   "outputs": [],
   "source": [
    "# replace with your data set & directories\n",
    "\n",
    "data_dir = 'plant_disease_dataset'  \n",
    "\n",
    "test_dir = 'path_to_training_test_directory'\n",
    "\n",
    "train_dir = 'path_to_training_data_directory'\n",
    "valid_dir = 'path_to_validation_data_directory'\n",
    "\n",
    "# Get a list of file paths for training and validation data\n",
    "train_files = [os.path.join(train_dir, filename) for filename in os.listdir(train_dir)]\n",
    "valid_files = [os.path.join(valid_dir, filename) for filename in os.listdir(valid_dir)]\n",
    "\n",
    "\n",
    "# Define data augmentation for the training set\n",
    "train_datagen = ImageDataGenerator(\n",
    "    rescale=1.0 / 255.0,\n",
    "    rotation_range=40,\n",
    "    width_shift_range=0.2,\n",
    "    height_shift_range=0.2,\n",
    "    shear_range=0.2,\n",
    "    zoom_range=0.2,\n",
    "    horizontal_flip=True,\n",
    "    fill_mode='nearest'\n",
    ")\n",
    "\n",
    "valid_datagen = ImageDataGenerator(rescale=1.0 / 255.0)\n",
    "test_datagen = ImageDataGenerator(rescale=1.0 / 255.0)\n"
   ]
  },
  {
   "cell_type": "markdown",
   "metadata": {},
   "source": [
    "### Step 2: Build a Multi-View Neural Network"
   ]
  },
  {
   "cell_type": "code",
   "execution_count": null,
   "metadata": {},
   "outputs": [],
   "source": [
    "\n",
    "\n",
    "# Define the input layer for each view\n",
    "view1_input = Input(shape=(224, 224, 3))\n",
    "view2_input = Input(shape=(224, 224, 3))\n",
    "\n",
    "# Build a convolutional neural network for each view\n",
    "conv1 = Conv2D(32, (3, 3), activation='relu')(view1_input)\n",
    "conv2 = Conv2D(32, (3, 3), activation='relu')(view2_input)\n",
    "pool1 = MaxPooling2D(pool_size=(2, 2))(conv1)\n",
    "pool2 = MaxPooling2D(pool_size=(2, 2))(conv2)\n",
    "flatten1 = Flatten()(pool1)\n",
    "flatten2 = Flatten()(pool2)\n",
    "\n",
    "# Concatenate the outputs of the two views\n",
    "merged = Concatenate()([flatten1, flatten2])\n",
    "\n",
    "# Add fully connected layers for classification\n",
    "dense1 = Dense(128, activation='relu')(merged)\n",
    "# replace with # of classes you want\n",
    "output = Dense(num_classes, activation='softmax')(dense1) \n",
    "\n",
    "# Create the model\n",
    "model = Model(inputs=[view1_input, view2_input], outputs=output)\n",
    "\n",
    "# Compile the model\n",
    "model.compile(optimizer='adam', loss='categorical_crossentropy', metrics=['accuracy'])\n"
   ]
  },
  {
   "cell_type": "markdown",
   "metadata": {},
   "source": [
    "### Step 3: Training the Model"
   ]
  },
  {
   "cell_type": "code",
   "execution_count": null,
   "metadata": {},
   "outputs": [],
   "source": [
    "\n",
    "checkpoint = ModelCheckpoint('multi_view_model.h5', save_best_only=True)\n",
    "\n",
    "history = model.fit_generator(\n",
    "    train_datagen.flow_from_directory(train_dir, target_size=(224, 224), batch_size=32, class_mode='categorical'),\n",
    "    validation_data=valid_datagen.flow_from_directory(valid_dir, target_size=(224, 224), batch_size=32, class_mode='categorical'),\n",
    "    steps_per_epoch=len(train_files) // 32,\n",
    "    validation_steps=len(valid_files) // 32,\n",
    "    epochs=10,\n",
    "    callbacks=[checkpoint]\n",
    ")\n"
   ]
  },
  {
   "cell_type": "markdown",
   "metadata": {},
   "source": [
    "### Step 4: Model Evaluation and Testing"
   ]
  },
  {
   "cell_type": "code",
   "execution_count": null,
   "metadata": {},
   "outputs": [],
   "source": [
    "test_results = model.evaluate(test_datagen.flow_from_directory(test_dir, target_size=(224, 224), batch_size=32, class_mode='categorical'))\n",
    "print(\"Test Loss:\", test_results[0])\n",
    "print(\"Test Accuracy:\", test_results[1])"
   ]
  },
  {
   "cell_type": "markdown",
   "metadata": {},
   "source": [
    "### Step 5: Predictions"
   ]
  },
  {
   "cell_type": "code",
   "execution_count": null,
   "metadata": {},
   "outputs": [],
   "source": [
    "# Load the trained model\n",
    "from tensorflow.keras.models import load_model\n",
    "\n",
    "loaded_model = load_model('multi_view_model.h5')\n",
    "\n",
    "# Load and preprocess an image for prediction\n",
    "from tensorflow.keras.preprocessing import image\n",
    "import numpy as np\n",
    "\n",
    "img_path = 'path_to_image.jpg'\n",
    "img = image.load_img(img_path, target_size=(224, 224))\n",
    "img = image.img_to_array(img)\n",
    "img = np.expand_dims(img, axis=0)\n",
    "img = img / 255.0\n",
    "\n",
    "# Make predictions\n",
    "predictions = loaded_model.predict([img, img])\n"
   ]
  }
 ],
 "metadata": {
  "language_info": {
   "name": "python"
  }
 },
 "nbformat": 4,
 "nbformat_minor": 2
}
